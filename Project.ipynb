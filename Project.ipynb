{
 "cells": [
  {
   "cell_type": "markdown",
   "metadata": {},
   "source": [
    "![ine-divider](https://user-images.githubusercontent.com/7065401/92672068-398e8080-f2ee-11ea-82d6-ad53f7feb5c0.png)\n",
    "<hr>\n",
    "\n",
    "### Secure RESTful APIs using Python\n",
    "\n",
    "# Understanding the services provided by a server\n",
    "\n",
    "In order to complete this project, you should launch the provided server by running the following at a separate terminal on your local system:\n",
    "\n",
    "```bash\n",
    "FLASK_APP=project.py flask run --port 5009\n",
    "```\n",
    "\n",
    "The port 5009 is not used by any well-known service or protocol, so it is unlikely it will be in use on your system. However, in case it is, you may change the port you launch on and the corresponding projects to find an unused port.  Launching the Flask server will fail if the port has been claimed, and you can try as many others as you like (the entire 5000-5500 range should mostly be available).\n",
    "\n",
    "![orange-divider](https://user-images.githubusercontent.com/7065401/92672455-187a5f80-f2ef-11ea-890c-40be9474f7b7.png)"
   ]
  },
  {
   "cell_type": "code",
   "execution_count": 1,
   "metadata": {},
   "outputs": [],
   "source": [
    "import requests"
   ]
  },
  {
   "cell_type": "markdown",
   "metadata": {},
   "source": [
    "## Part 1\n",
    "\n",
    "**Interacting with unknown media types**\n",
    "\n",
    "Ideally perform this task without looking at the code of the server you have launched locally.  This simulates exploring how to interact with a service that you may, in fact, not have source code access to, but still wish to utilize.\n",
    "\n",
    "The running service has an route called `/NASA` that will respond with **something** (something NASA related, specifically).  The specific resource it will return on each call will vary randomly.  Create code that will receive and present in a relevant manner each response of each MIME type that you receive.\n",
    "\n",
    "If you do not peak at the code, you will need to determine this with some trial-and-error to make sure you can process each type.  For presentation in a notebook, you may want to utilize capatiblities inside the `IPython.display` module."
   ]
  },
  {
   "cell_type": "markdown",
   "metadata": {},
   "source": [
    "![orange-divider](https://user-images.githubusercontent.com/7065401/92672455-187a5f80-f2ef-11ea-890c-40be9474f7b7.png)\n",
    "\n",
    "## Part 2\n",
    "\n",
    "**Interacting with resource-limited services**\n",
    "\n",
    "The locally running service has another route names `/Slow-NASA`.  This simulates an overloaded or underpowered server that cannot handle the volume of traffic it receives.  When there is a problem, the service will indicate \"503 Service Unavailable\" to show that it has fallen behind.  When the server succeeds, what it responds will be identical to the `/NASA` route.\n",
    "\n",
    "You wish to utilize this service, but not so heavily that it will fail.  Therefore, you'd like to avoid making requests overly frequently; however, determining how frequently is **too** frequently is the purpose of this task.  Again, avoid looking at the code for the running service, stipulating that it is actually running on a machine you do not control.\n",
    "\n",
    "Keep in mind that just because two specific requests succeed after a certain wait, that doesn't mean that the same wait will *always* be sufficient.  In a real-life server, you are never really guaranteed this; on this toy sample, a sufficiently long wait will allow requests always to succeed.  In this task, you simply want to wait long enough that failures are *very unlikely* (you can determine what constitutes \"very\" to your own satisfaction. \n",
    "\n",
    "Politeness to the external service is certainly a concern.  Flooding the service with requests in the hopes they will succeed eventually is bad manners (and counter-productive for a burdened server)."
   ]
  },
  {
   "cell_type": "code",
   "execution_count": 2,
   "metadata": {},
   "outputs": [
    {
     "name": "stdout",
     "output_type": "stream",
     "text": [
      " First request status: 200\n",
      "Second request status: 503\n",
      " Third request status: 503\n"
     ]
    }
   ],
   "source": [
    "resp1 = requests.get('http://localhost:5009/Slow-NASA')\n",
    "resp2 = requests.get('http://localhost:5009/Slow-NASA')\n",
    "resp3 = requests.get('http://localhost:5009/Slow-NASA')\n",
    "print(\" First request status:\", resp1.status_code)\n",
    "print(\"Second request status:\", resp2.status_code)\n",
    "print(\" Third request status:\", resp3.status_code)"
   ]
  },
  {
   "cell_type": "markdown",
   "metadata": {},
   "source": [
    "![orange-divider](https://user-images.githubusercontent.com/7065401/92672455-187a5f80-f2ef-11ea-890c-40be9474f7b7.png)"
   ]
  }
 ],
 "metadata": {
  "kernelspec": {
   "display_name": "Python 3",
   "language": "python",
   "name": "python3"
  },
  "language_info": {
   "codemirror_mode": {
    "name": "ipython",
    "version": 3
   },
   "file_extension": ".py",
   "mimetype": "text/x-python",
   "name": "python",
   "nbconvert_exporter": "python",
   "pygments_lexer": "ipython3",
   "version": "3.8.6"
  }
 },
 "nbformat": 4,
 "nbformat_minor": 4
}
